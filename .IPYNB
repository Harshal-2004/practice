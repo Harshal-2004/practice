{
 "cells": [
  {
   "cell_type": "code",
   "execution_count": 12,
   "metadata": {},
   "outputs": [
    {
     "name": "stdout",
     "output_type": "stream",
     "text": [
      "Lat                      91\n",
      "Long_                    91\n",
      "Deaths                 1558\n",
      "Case_Fatality_Ratio      44\n",
      "dtype: int64\n",
      "Lat      23\n",
      "Long_    23\n",
      "dtype: int64\n"
     ]
    }
   ],
   "source": [
    "import pandas as pd\n",
    "# Load your dataset\n",
    "train_data = pd.read_csv('train_data.csv')\n",
    "test_data = pd.read_csv('test_data.csv')\n",
    "\n",
    "# Check for missing values\n",
    "print(train_data.isnull().sum())\n",
    "print(test_data.isnull().sum())\n",
    "\n",
    "# Fill missing values with mean/mode or drop rows/columns\n",
    "train_data = train_data.fillna(train_data.mean())\n",
    "test_data = test_data.fillna(test_data.mean())\n",
    "\n",
    "# Separate features and targets\n",
    "train_features = train_data[['Lat', 'Long_']]\n",
    "train_deaths_target = train_data['Deaths']\n",
    "train_cfr_target = train_data['Case_Fatality_Ratio']\n",
    "\n",
    "test_features = test_data[['Lat', 'Long_']]"
   ]
  },
  {
   "cell_type": "code",
   "execution_count": 13,
   "metadata": {},
   "outputs": [],
   "source": [
    "from sklearn.preprocessing import StandardScaler\n",
    "\n",
    "scaler = StandardScaler()\n",
    "\n",
    "# Standardize the features\n",
    "train_features_scaled = scaler.fit_transform(train_features)\n",
    "test_features_scaled = scaler.transform(test_features)\n",
    "\n",
    "\n"
   ]
  },
  {
   "cell_type": "code",
   "execution_count": 17,
   "metadata": {},
   "outputs": [
    {
     "name": "stdout",
     "output_type": "stream",
     "text": [
      "Validation RMSE for Deaths: 37.215868083762146\n"
     ]
    }
   ],
   "source": [
    "from sklearn.ensemble import RandomForestRegressor\n",
    "from sklearn.model_selection import train_test_split\n",
    "from sklearn.metrics import mean_squared_error\n",
    "import numpy as np\n",
    "\n",
    "# Split the data into training and validation sets for deaths\n",
    "X_train_deaths, X_val_deaths, y_train_deaths, y_val_deaths = train_test_split(train_features_scaled, train_deaths_target, test_size=0.2, random_state=42)\n",
    "\n",
    "# Train the model for predicting deaths\n",
    "deaths_model = RandomForestRegressor(n_estimators=100, random_state=42)\n",
    "deaths_model.fit(X_train_deaths, y_train_deaths)\n",
    "\n",
    "# Validate the model for deaths\n",
    "val_predictions_deaths = deaths_model.predict(X_val_deaths)\n",
    "rmse_deaths = np.sqrt(mean_squared_error(y_val_deaths, val_predictions_deaths))\n",
    "print(f'Validation RMSE for Deaths: {rmse_deaths}')\n"
   ]
  },
  {
   "cell_type": "code",
   "execution_count": 19,
   "metadata": {},
   "outputs": [
    {
     "name": "stdout",
     "output_type": "stream",
     "text": [
      "Validation RMSE for Case Fatality Ratio: 22.17294963505846\n"
     ]
    }
   ],
   "source": [
    "# Split the data into training and validation sets for CFR\n",
    "X_train_cfr, X_val_cfr, y_train_cfr, y_val_cfr = train_test_split(train_features_scaled, train_cfr_target, test_size=0.2, random_state=42)\n",
    "\n",
    "# Train the model for predicting CFR\n",
    "cfr_model = RandomForestRegressor(n_estimators=100, random_state=42)\n",
    "cfr_model.fit(X_train_cfr, y_train_cfr)\n",
    "\n",
    "# Validate the model for CFR\n",
    "val_predictions_cfr = cfr_model.predict(X_val_cfr)\n",
    "rmse_cfr = np.sqrt(mean_squared_error(y_val_cfr, val_predictions_cfr))\n",
    "print(f'Validation RMSE for Case Fatality Ratio: {rmse_cfr}')\n"
   ]
  },
  {
   "cell_type": "code",
   "execution_count": 28,
   "metadata": {},
   "outputs": [
    {
     "name": "stdout",
     "output_type": "stream",
     "text": [
      "            Lat       Long_  Predicted_Deaths  Predicted_Case_Fatality_Ratio\n",
      "0     41.153300   20.168300         70.753051                       1.313687\n",
      "1    -71.949900   23.347000         13.408019                       0.942462\n",
      "2    -35.473500  149.012400        114.148019                       0.132549\n",
      "3    -34.928500  138.600700         80.079972                       0.214274\n",
      "4     47.516200   14.550100         72.132807                       0.604589\n",
      "...         ...         ...               ...                            ...\n",
      "999   49.213800   -2.135800        107.860244                       1.088025\n",
      "1000  -7.946700  -14.355900         76.065155                       1.834367\n",
      "1001  52.130700   -3.783700         72.607868                       1.025133\n",
      "1002   6.423800  -66.589700         57.417136                       1.000845\n",
      "1003  15.552727   48.516388        137.966037                       0.902442\n",
      "\n",
      "[1004 rows x 4 columns]\n"
     ]
    }
   ],
   "source": [
    "# Predict deaths and CFR for the test dataset\n",
    "test_predictions_deaths = deaths_model.predict(test_features_scaled)\n",
    "test_predictions_cfr = cfr_model.predict(test_features_scaled)\n",
    "\n",
    "# Combine predictions into a DataFrame\n",
    "test_predictions = pd.DataFrame({\n",
    "    'Lat': test_data['Lat'],\n",
    "    'Long_': test_data['Long_'],\n",
    "    'Predicted_Deaths': test_predictions_deaths,\n",
    "    'Predicted_Case_Fatality_Ratio': test_predictions_cfr\n",
    "})\n",
    "\n",
    "print(test_predictions)\n"
   ]
  }
 ],
 "metadata": {
  "kernelspec": {
   "display_name": "Python 3",
   "language": "python",
   "name": "python3"
  },
  "language_info": {
   "codemirror_mode": {
    "name": "ipython",
    "version": 3
   },
   "file_extension": ".py",
   "mimetype": "text/x-python",
   "name": "python",
   "nbconvert_exporter": "python",
   "pygments_lexer": "ipython3",
   "version": "3.12.6"
  }
 },
 "nbformat": 4,
 "nbformat_minor": 2
}
